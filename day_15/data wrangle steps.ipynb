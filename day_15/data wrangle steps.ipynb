{
 "cells": [
  {
   "attachments": {},
   "cell_type": "markdown",
   "metadata": {},
   "source": [
    "## steps\n",
    "1. gathering the data\n",
    "2. assessing the data.[EDA]\n",
    "3. cleaning the data.\n",
    "   1. dealing with missing values\n",
    "   2. correcting errors in the data.\n",
    "       1. removing the outliers.\n",
    "         1. viusualization\n",
    "         2. IQR method\n",
    "         3. z-score\n",
    "   3. dropping the duplicates\n",
    " 4. Transforming the data\n",
    "    1. normalize the data.\n",
    "       1. min -max normalization\n",
    "       2. standard scalar normalization.\n",
    "       3. log transformation.\n",
    "       4. winsorization\n",
    "       5. z-score normalization\n",
    "       6. decimal scaling\n",
    " 5. organizing the data.\n",
    "    1. columns creation\n",
    "    2. renaming.\n",
    "    3. renaming jis ki sense bnay.\n",
    "4. save the wrangle data.\n",
    "   \n",
    "\n",
    "    . "
   ]
  },
  {
   "cell_type": "markdown",
   "metadata": {},
   "source": []
  },
  {
   "cell_type": "code",
   "execution_count": null,
   "metadata": {},
   "outputs": [],
   "source": []
  }
 ],
 "metadata": {
  "kernelspec": {
   "display_name": "Python 3",
   "language": "python",
   "name": "python3"
  },
  "language_info": {
   "name": "python",
   "version": "3.10.10"
  },
  "orig_nbformat": 4,
  "vscode": {
   "interpreter": {
    "hash": "b18d0eb529da1f73337c88570e518ede15bb22d4babac5309ed6ecdac43b4110"
   }
  }
 },
 "nbformat": 4,
 "nbformat_minor": 2
}
