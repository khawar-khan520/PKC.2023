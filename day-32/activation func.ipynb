{
 "cells": [
  {
   "cell_type": "markdown",
   "metadata": {},
   "source": []
  },
  {
   "attachments": {},
   "cell_type": "markdown",
   "metadata": {},
   "source": [
    "# learned activation functions in deep learning  \n",
    "1. what are neural networks\n",
    "2. linear and non linear func\n",
    "3. activaation func\n",
    "   1. sigmoid = 0 or 1 case . single class class classification\n",
    "   2. step = 0 or 1\n",
    "   3. relu = 0 and 1 ..ignore 0 and -0.\n",
    "   4. leaky relu = also add little -0.00 or slope\n",
    "   5. parametric relu =  takes more -0 values\n",
    "   6. tanh = \n",
    "   7. softmax = multi class classification"
   ]
  }
 ],
 "metadata": {
  "language_info": {
   "name": "python"
  },
  "orig_nbformat": 4
 },
 "nbformat": 4,
 "nbformat_minor": 2
}
