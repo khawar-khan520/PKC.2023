{
 "cells": [
  {
   "attachments": {},
   "cell_type": "markdown",
   "metadata": {},
   "source": [
    "assighnment .. what is difference b/w data science , machine learning and deep learning?\n",
    "assighn no 2.. what are the other names of x and y find more:\n",
    "x name = faeature 2. input. \n",
    "y name = labels 2.output. \n",
    "ENLIST EVALUATION MATRIX OF CLASSIFICATION AND REGRESSION"
   ]
  },
  {
   "attachments": {},
   "cell_type": "markdown",
   "metadata": {},
   "source": [
    "# MACHINE LEARNING:\n",
    "ML Allows machines to learn and make decision smartly\n",
    "\n",
    "# ML LIBRARIES..\n",
    "1. SCIKIT-LEARN \\\n",
    "2.TENSOR FLOW \\\n",
    "3. KERAS IS NOW IN TENSORFLOW\\\n",
    "4. PYTORCH \\\n",
    "THEANO"
   ]
  },
  {
   "cell_type": "markdown",
   "metadata": {},
   "source": []
  }
 ],
 "metadata": {
  "kernelspec": {
   "display_name": "Python 3",
   "language": "python",
   "name": "python3"
  },
  "language_info": {
   "name": "python",
   "version": "3.10.10"
  },
  "orig_nbformat": 4,
  "vscode": {
   "interpreter": {
    "hash": "b18d0eb529da1f73337c88570e518ede15bb22d4babac5309ed6ecdac43b4110"
   }
  }
 },
 "nbformat": 4,
 "nbformat_minor": 2
}
